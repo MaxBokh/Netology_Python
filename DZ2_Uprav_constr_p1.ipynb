{
 "cells": [
  {
   "cell_type": "code",
   "execution_count": 1,
   "metadata": {
    "collapsed": false
   },
   "outputs": [
    {
     "name": "stdout",
     "output_type": "stream",
     "text": [
      "th\n"
     ]
    }
   ],
   "source": [
    "#ЗАДАНИЕ 1. Дана переменная, в которой хранится слово из латинских букв. Напишите код, который выводит на экран:\n",
    "#среднюю букву, если число букв в слове нечетное;\n",
    "#две средних буквы, если число букв четное.\n",
    "\n",
    "#Вариант с четным количеством букв\n",
    "\n",
    "word = 'Lighthouse'\n",
    "if(len(word)%2==0):\n",
    "    print(word[len(word)//2-1: len(word)//2+1])\n",
    "else:\n",
    "    print(word[len(word)//2-1])\n"
   ]
  },
  {
   "cell_type": "code",
   "execution_count": 2,
   "metadata": {
    "collapsed": false
   },
   "outputs": [
    {
     "name": "stdout",
     "output_type": "stream",
     "text": [
      "t\n"
     ]
    }
   ],
   "source": [
    "# Вариант с нечетным количеством букв\n",
    "\n",
    "word = 'Lighthouses'\n",
    "if(len(word)%2==0):\n",
    "    print(word[len(word)//2-1: len(word)//2+1])\n",
    "else:\n",
    "    print(word[len(word)//2-1])"
   ]
  },
  {
   "cell_type": "code",
   "execution_count": 4,
   "metadata": {
    "cocalc": {
     "outputs": {
      "0": {
       "name": "input",
       "opts": {
        "password": false,
        "prompt": ""
       },
       "output_type": "stream"
      }
     }
    },
    "collapsed": false
   },
   "outputs": [
    {
     "name": "stdout",
     "output_type": "stream",
     "text": " "
    }
   ],
   "source": [
    "#ЗАДАНИЕ 2. Напишите программу, которая последовательно запрашивает у пользователя числа (по одному за раз) и после первого нуля выводит сумму всех ранее введенных чисел.\n",
    "\n",
    "x = int(input())\n",
    "summa = 0\n",
    "while x != 0: \n",
    "    summa += x\n",
    "    x = int(input())\n",
    "if x==0:  \n",
    "    print('Результат:', summa)"
   ]
  },
  {
   "cell_type": "code",
   "execution_count": 0,
   "metadata": {
    "collapsed": false
   },
   "outputs": [
   ],
   "source": [
    "#ЗАДАНИЕ 3. Мы делаем MVP dating-сервиса, и у нас есть список парней и девушек.\n",
    "#Выдвигаем гипотезу: лучшие рекомендации мы получим, если просто отсортируем имена по алфавиту и познакомим людей с одинаковыми индексами после сортировки! \n",
    "#Но мы не будем никого знакомить, если кто-то может остаться без пары:\n",
    "\n",
    "boys = ['Peter', 'Alex', 'John', 'Arthur', 'Richard', 'Michael', 'Tom']\n",
    "girls = ['Kate', 'Liza', 'Kira', 'Emma', 'Trisha', 'Ann']\n",
    "\n",
    "if len(boys) != len(girls):\n",
    "    print('Внимание, кто-то может остаться без пары')\n",
    "else:\n",
    "    print('Идеальные пары:')\n",
    "    couples = zip(sorted(boys), sorted(girls))\n",
    "for good in couples:\n",
    "        boy = good[0]\n",
    "        girl = good[1]\n",
    "        print(boy, 'и', girl)"
   ]
  },
  {
   "cell_type": "code",
   "execution_count": 0,
   "metadata": {
    "collapsed": false
   },
   "outputs": [
   ],
   "source": [
    "#ЗАДАНИЕ 4. У нас есть список, содержащий информацию о среднедневной температуре в Фаренгейтах за произвольный период по странам (структура данных в примере). \n",
    "#Необходимо написать код, который рассчитает среднюю температуру за период в Цельсиях(!) для каждой страны.\n",
    "\n",
    "countries_temperature = [\n",
    "    ['Thailand', [75.2, 77, 78.8, 73.4, 68, 75.2, 77]],\n",
    "    ['Germany', [57.2, 55.4, 59, 59, 53.6]],\n",
    "    ['Russia', [35.6, 37.4, 39.2, 41, 42.8, 39.2, 35.6]],\n",
    "    ['Poland', [50, 50, 53.6, 57.2, 55.4, 55.4]]\n",
    "]\n",
    "\n",
    "print('Средняя температура в странах:')\n",
    "length = 0\n",
    "sum_temp = 0\n",
    "avg_temp = 0\n",
    "for temp in countries_temperature:\n",
    "    length = len(temp[1])\n",
    "    sum_temp = sum(temp[1])\n",
    "    avg_temp = (sum_temp/length- 32)*5/9\n",
    "    print(temp[0],'-', round(avg_temp , 1), 'C')"
   ]
  }
 ],
 "metadata": {
  "kernelspec": {
   "display_name": "Python 3 (system-wide)",
   "language": "python",
   "metadata": {
    "cocalc": {
     "description": "Python 3 programming language",
     "priority": 100,
     "url": "https://www.python.org/"
    }
   },
   "name": "python3"
  },
  "language_info": {
   "codemirror_mode": {
    "name": "ipython",
    "version": 3
   },
   "file_extension": ".py",
   "mimetype": "text/x-python",
   "name": "python",
   "nbconvert_exporter": "python",
   "pygments_lexer": "ipython3",
   "version": "3.8.5"
  }
 },
 "nbformat": 4,
 "nbformat_minor": 4
}