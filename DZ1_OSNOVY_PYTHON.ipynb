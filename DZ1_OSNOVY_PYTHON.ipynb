{
 "cells": [
  {
   "cell_type": "code",
   "execution_count": 2,
   "metadata": {
    "collapsed": false
   },
   "outputs": [
    {
     "name": "stdout",
     "output_type": "stream",
     "text": [
      "Действительно, это так\n"
     ]
    }
   ],
   "source": [
    "# ЗАДАНИЕ 1. Даны 2 переменных, в которых хранятся строки произвольной длины: phrase_1 и phrase_2. Напишите код, который проверяет какая из этих строк длиннее.\n",
    "\n",
    "# Фраза 1 длиннее фразы 2\n",
    "phrase_1 = 'Эта фраза номер 1, она должна быть длиннее фразы 2'\n",
    "phrase_2 = 'Эта фраза номер 2, она короче фразы 1'\n",
    "if len(phrase_1) > len(phrase_2):\n",
    "    print('Действительно, это так')\n",
    "elif len(phrase_1) == len(phrase_2):\n",
    "    print ('Они вообще равны')\n",
    "else:\n",
    "    print ('Нет, утверждения не верны')"
   ]
  },
  {
   "cell_type": "code",
   "execution_count": 4,
   "metadata": {
    "collapsed": false
   },
   "outputs": [
    {
     "name": "stdout",
     "output_type": "stream",
     "text": [
      "Нет, утверждения не верны\n"
     ]
    }
   ],
   "source": [
    "# Фраза 2 длиннее фразы 1\n",
    "phrase_1 = 'Эта фраза номер 1, она должна быть длиннее фразы 2'\n",
    "phrase_2 = 'Эта фраза номер 2, она короче фразы 1, но это не точно'\n",
    "if len(phrase_1) > len(phrase_2):\n",
    "    print('Действительно, это так')\n",
    "elif len(phrase_1) == len(phrase_2):\n",
    "    print ('Они вообще равны')\n",
    "else:\n",
    "    print ('Нет, утверждения не верны')"
   ]
  },
  {
   "cell_type": "code",
   "execution_count": 0,
   "metadata": {
    "collapsed": false
   },
   "outputs": [
   ],
   "source": [
   ]
  },
  {
   "cell_type": "code",
   "execution_count": 0,
   "metadata": {
    "collapsed": false
   },
   "outputs": [
   ],
   "source": [
   ]
  },
  {
   "cell_type": "code",
   "execution_count": 7,
   "metadata": {
    "collapsed": false
   },
   "outputs": [
    {
     "name": "stdout",
     "output_type": "stream",
     "text": [
      "Они вообще равны\n"
     ]
    }
   ],
   "source": [
    "# Фразы одинаковой длины\n",
    "phrase_1 = 'Эта фраза номер 1, она должна быть длиннее фразы 2'\n",
    "phrase_2 = 'Эта фраза номер 2, она короче фразы 1, не так ли??'\n",
    "if len(phrase_1) > len(phrase_2):\n",
    "    print('Действительно, это так')\n",
    "elif len(phrase_1) == len(phrase_2):\n",
    "    print ('Они вообще равны')\n",
    "else:\n",
    "    print ('Нет, утверждения не верны')"
   ]
  },
  {
   "cell_type": "code",
   "execution_count": 19,
   "metadata": {
    "collapsed": false
   },
   "outputs": [
    {
     "name": "stdout",
     "output_type": "stream",
     "text": [
      "високосный год\n"
     ]
    }
   ],
   "source": [
    "#ЗАДАНИЕ 2. Дана переменная, в которой хранится четырехзначное число (год). Необходимо написать программу, которая выведет, является ли данный год високосным или обычным.\n",
    "\n",
    "current_year = 2020\n",
    "if ((current_year%4) == 0 and (current_year%100) != 0) or (current_year%400) == 0:\n",
    "    print ('високосный год')\n",
    "else:\n",
    "    print('Обычный год (невисокосный)')\n"
   ]
  },
  {
   "cell_type": "code",
   "execution_count": 23,
   "metadata": {
    "collapsed": false
   },
   "outputs": [
    {
     "name": "stdout",
     "output_type": "stream",
     "text": [
      "Ваш знак зодиака:\n",
      "Скорпион\n"
     ]
    }
   ],
   "source": [
    "#ЗАДАНИЕ 3. Необходимо написать программу, которая будет запрашивать у пользователя месяц и дату рождения и выводить соответствующий знак зодиака.\n",
    "\n",
    "print('Ваш знак зодиака:')\n",
    "day = 10\n",
    "mounth = ('Ноябрь')\n",
    "if (21 <= day <= 31 and mounth == 'Март') or (1 <= day <= 20 and mounth == 'Апрель'):\n",
    "    print('Овен')\n",
    "elif (21 <= day <= 30 and mounth == 'Апрель') or (1 <= day <= 21 and mounth == 'Май'):\n",
    "    print('Телец')\n",
    "elif (22 <= day <= 31 and mounth == 'Май') or (1 <= day <= 21 and mounth == 'Июнь'):\n",
    "    print('Близнецы')\n",
    "elif (22 <= day <= 30 and mounth == 'Июнь') or (1 <= day <= 22 and mounth == 'Июль'):\n",
    "    print('Рак')\n",
    "elif (23 <= day <= 31 and mounth == 'Июль') or (1 <= day <= 23 and mounth == 'Август'):\n",
    "    print('Лев')\n",
    "elif (24 <= day <= 31 and mounth == 'Август') or (1 <= day <= 23 and mounth == 'Сентябрь'):\n",
    "    print('Дева')\n",
    "elif (24 <= day <= 30 and mounth == 'Сентябрь') or (1 <= day <= 23 and mounth == 'Октябрь'):\n",
    "    print('Весы')\n",
    "elif (24 <= day <= 31 and mounth == 'Октябрь') or (1 <= day <= 22 and mounth == 'Ноябрь'):\n",
    "    print('Скорпион')\n",
    "elif (23 <= day <= 30 and mounth == 'Ноябрь') or (1 <= day <= 21 and mounth == 'Декабрь'):\n",
    "    print('Стрелец')\n",
    "elif (22 <= day <= 31 and mounth == 'Декабрь') or (1 <= day <= 20 and mounth == 'Январь'):\n",
    "    print('Козерог')\n",
    "elif (21 <= day <= 31 and mounth == 'Январь') or (1 <= day <= 18 and mounth == 'Февраль'):\n",
    "    print('Водолей')\n",
    "elif (19 <= day <= 29 and mounth == 'Февраль') or (1 <= day <= 20 and mounth == 'Март'):\n",
    "    print('Рыбы')\n",
    "else:\n",
    "    print('Не определен')\n",
    "    print('Проверьте дату')"
   ]
  },
  {
   "cell_type": "code",
   "execution_count": 0,
   "metadata": {
    "collapsed": false
   },
   "outputs": [
   ],
   "source": [
    "#ЗАДАНИЕ 4. Вам нужно написать программу для подбора упаковок по размерам товара. Размеры хранятся в переменных (в сантиметрах):\n",
    "\n",
    "width = 25\n",
    "length = 150\n",
    "height = 5\n",
    "if width < 15 and length < 15 and height < 15:\n",
    "    print('Коробка №1')\n",
    "elif (15 < width < 50 or 15 < length < 50 or 15 < height < 50) and length < 200:\n",
    "    print('Коробка №2')\n",
    "elif length > 200:\n",
    "    print('Упаковка для лыж')\n",
    "else:\n",
    "    print('стандартная коробка №3')"
   ]
  },
  {
   "cell_type": "code",
   "execution_count": 36,
   "metadata": {
    "cocalc": {
     "outputs": {
      "0": {
       "name": "input",
       "opts": {
        "password": false,
        "prompt": ""
       },
       "output_type": "stream",
       "value": "454221"
      }
     }
    },
    "collapsed": false
   },
   "outputs": [
    {
     "name": "stdout",
     "output_type": "stream",
     "text": " 454221"
    },
    {
     "name": "stdout",
     "output_type": "stream",
     "text": [
      "Обычный\n"
     ]
    }
   ],
   "source": [
    "#ЗАДАНИЕ 5. Дана переменная, в которой хранится шестизначное число (номер проездного билета). \n",
    "#Напишите программу, которая будет определять, является ли данный билет “счастливым”. Билет считается счастливым, если сумма первых трех цифр совпадает с суммой последних трех цифр номера.\n",
    "\n",
    "a = int(input())\n",
    "a1 = a % 10\n",
    "a2 = (a - a1) % 100\n",
    "a3 = (a - a1 - a2) % 1000\n",
    "a4 = (a - a1 - a2 - a3) % 10000\n",
    "a5 = (a - a1 - a2 - a3 - a4) % 100000\n",
    "a6 = (a - a1 - a2 - a3 - a4 - a5) % 1000000\n",
    "if len(str(a)) == 6:\n",
    "    if a1+a2/10+a3/100 == a4/1000 + a5/10000 + a6/100000:\n",
    "        print('Счастливый')\n",
    "    else:\n",
    "        print('Обычный')\n",
    "else:\n",
    "    print('Проверьте номер билета. Должно быть шестизначное число')"
   ]
  },
  {
   "cell_type": "code",
   "execution_count": 2,
   "metadata": {
    "cocalc": {
     "outputs": {
      "0": {
       "name": "input",
       "opts": {
        "password": false,
        "prompt": ""
       },
       "output_type": "stream",
       "value": "круг"
      },
      "1": {
       "name": "input",
       "opts": {
        "password": false,
        "prompt": ""
       },
       "output_type": "stream",
       "value": "45"
      }
     }
    },
    "collapsed": false
   },
   "outputs": [
    {
     "name": "stdout",
     "output_type": "stream",
     "text": " круг"
    },
    {
     "name": "stdout",
     "output_type": "stream",
     "text": " 45"
    },
    {
     "name": "stdout",
     "output_type": "stream",
     "text": [
      "6358.5\n"
     ]
    }
   ],
   "source": [
    "#ЗАДАНИЕ 6. Напишите программу, которая сможет вычислять площади трех фигур (круг, треугольник и прямоугольник). Тип фигуры запрашиваем через пользовательский ввод, после чего делаем запрос характеристик фигуры:\n",
    "\n",
    "если пользователь выбрал круг, запрашиваем его радиус,\n",
    "если треугольник – длины трех его сторон;\n",
    "если прямоугольник – длины двух его сторон.\n",
    "\n",
    "from math import sqrt\n",
    "f = str(input())\n",
    "if f == ('треугольник'):\n",
    "    a = int(input())\n",
    "    b = int(input())\n",
    "    c = int(input())\n",
    "    p = (a + b + c) / 2\n",
    "    print(sqrt(p*(p-a)*(p-b)*(p-c)))\n",
    "elif f == ('прямоугольник'):\n",
    "    a = int(input())\n",
    "    b = int(input())\n",
    "    print(a * b)\n",
    "elif f == ('круг'):\n",
    "    r = int(input())\n",
    "    pi = 3.14\n",
    "    print(r ** 2 * pi)\n",
    "else:\n",
    "     print('Неизвестная фигура')"
   ]
  },
  {
   "cell_type": "code",
   "execution_count": 0,
   "metadata": {
    "collapsed": false
   },
   "outputs": [
   ],
   "source": [
   ]
  },
  {
   "cell_type": "code",
   "execution_count": 0,
   "metadata": {
    "collapsed": false
   },
   "outputs": [
   ],
   "source": [
   ]
  }
 ],
 "metadata": {
  "kernelspec": {
   "display_name": "Python 3 (system-wide)",
   "language": "python",
   "metadata": {
    "cocalc": {
     "description": "Python 3 programming language",
     "priority": 100,
     "url": "https://www.python.org/"
    }
   },
   "name": "python3"
  },
  "language_info": {
   "codemirror_mode": {
    "name": "ipython",
    "version": 3
   },
   "file_extension": ".py",
   "mimetype": "text/x-python",
   "name": "python",
   "nbconvert_exporter": "python",
   "pygments_lexer": "ipython3",
   "version": "3.8.5"
  }
 },
 "nbformat": 4,
 "nbformat_minor": 4
}